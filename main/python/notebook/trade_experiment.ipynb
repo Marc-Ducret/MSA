{
 "cells": [
  {
   "cell_type": "code",
   "execution_count": 1,
   "metadata": {},
   "outputs": [
    {
     "data": {
      "text/html": [
       "<script>requirejs.config({paths: { 'plotly': ['https://cdn.plot.ly/plotly-latest.min']},});if(!window.Plotly) {{require(['plotly'],function(plotly) {window.Plotly=plotly;});}}</script>"
      ],
      "text/vnd.plotly.v1+html": [
       "<script>requirejs.config({paths: { 'plotly': ['https://cdn.plot.ly/plotly-latest.min']},});if(!window.Plotly) {{require(['plotly'],function(plotly) {window.Plotly=plotly;});}}</script>"
      ]
     },
     "metadata": {},
     "output_type": "display_data"
    }
   ],
   "source": [
    "import plotly.graph_objs as go\n",
    "from plotly.offline import download_plotlyjs, init_notebook_mode, plot, iplot\n",
    "\n",
    "import numpy as np\n",
    "\n",
    "init_notebook_mode(connected=True)\n",
    "\n",
    "def plot_stats(stats):\n",
    "    x = []\n",
    "    y = []\n",
    "    z = []\n",
    "    for (c, r, t) in stats:\n",
    "        x.append(c)\n",
    "        y.append(r)\n",
    "        z.append(stats[c,r,t][0])\n",
    "\n",
    "    trace1 = go.Scatter3d(\n",
    "        x=x,\n",
    "        y=y,\n",
    "        z=z,\n",
    "        mode='markers',\n",
    "        marker=dict(\n",
    "            size=12,\n",
    "            color=z,                # set color to an array/list of desired values\n",
    "            colorscale='Viridis',   # choose a colorscale\n",
    "            opacity=0.8\n",
    "        )\n",
    "    )\n",
    "\n",
    "    data = [trace1]\n",
    "    layout = go.Layout(\n",
    "        margin=dict(\n",
    "            l=0,\n",
    "            r=0,\n",
    "            b=0,\n",
    "            t=0\n",
    "        )\n",
    "    )\n",
    "    fig = go.Figure(data=data, layout=layout)\n",
    "    return iplot(fig, filename='3d-scatter-colorscale')"
   ]
  },
  {
   "cell_type": "markdown",
   "metadata": {},
   "source": [
    "Self play take 1"
   ]
  },
  {
   "cell_type": "code",
   "execution_count": 2,
   "metadata": {},
   "outputs": [
    {
     "data": {
      "application/vnd.plotly.v1+json": {
       "data": [
        {
         "marker": {
          "color": [
           0.250258,
           0.135762,
           0,
           0.896821,
           0,
           0.002634,
           0.042334,
           0,
           0.838392
          ],
          "colorscale": "Viridis",
          "opacity": 0.8,
          "size": 12
         },
         "mode": "markers",
         "type": "scatter3d",
         "x": [
          4,
          4,
          4,
          3,
          3,
          3,
          2,
          2,
          2
         ],
         "y": [
          10,
          6,
          2,
          6,
          2,
          10,
          10,
          2,
          6
         ],
         "z": [
          0.250258,
          0.135762,
          0,
          0.896821,
          0,
          0.002634,
          0.042334,
          0,
          0.838392
         ]
        }
       ],
       "layout": {
        "margin": {
         "b": 0,
         "l": 0,
         "r": 0,
         "t": 0
        }
       }
      },
      "text/html": [
       "<div id=\"48731512-b0ef-44a8-9b5b-fc112562583d\" style=\"height: 525px; width: 100%;\" class=\"plotly-graph-div\"></div><script type=\"text/javascript\">require([\"plotly\"], function(Plotly) { window.PLOTLYENV=window.PLOTLYENV || {};window.PLOTLYENV.BASE_URL=\"https://plot.ly\";Plotly.newPlot(\"48731512-b0ef-44a8-9b5b-fc112562583d\", [{\"type\": \"scatter3d\", \"x\": [4, 4, 4, 3, 3, 3, 2, 2, 2], \"y\": [10, 6, 2, 6, 2, 10, 10, 2, 6], \"z\": [0.250258, 0.135762, 0.0, 0.896821, 0.0, 0.002634, 0.042334, 0.0, 0.838392], \"mode\": \"markers\", \"marker\": {\"size\": 12, \"color\": [0.250258, 0.135762, 0.0, 0.896821, 0.0, 0.002634, 0.042334, 0.0, 0.838392], \"colorscale\": \"Viridis\", \"opacity\": 0.8}}], {\"margin\": {\"l\": 0, \"r\": 0, \"b\": 0, \"t\": 0}}, {\"showLink\": true, \"linkText\": \"Export to plot.ly\"})});</script>"
      ],
      "text/vnd.plotly.v1+html": [
       "<div id=\"48731512-b0ef-44a8-9b5b-fc112562583d\" style=\"height: 525px; width: 100%;\" class=\"plotly-graph-div\"></div><script type=\"text/javascript\">require([\"plotly\"], function(Plotly) { window.PLOTLYENV=window.PLOTLYENV || {};window.PLOTLYENV.BASE_URL=\"https://plot.ly\";Plotly.newPlot(\"48731512-b0ef-44a8-9b5b-fc112562583d\", [{\"type\": \"scatter3d\", \"x\": [4, 4, 4, 3, 3, 3, 2, 2, 2], \"y\": [10, 6, 2, 6, 2, 10, 10, 2, 6], \"z\": [0.250258, 0.135762, 0.0, 0.896821, 0.0, 0.002634, 0.042334, 0.0, 0.838392], \"mode\": \"markers\", \"marker\": {\"size\": 12, \"color\": [0.250258, 0.135762, 0.0, 0.896821, 0.0, 0.002634, 0.042334, 0.0, 0.838392], \"colorscale\": \"Viridis\", \"opacity\": 0.8}}], {\"margin\": {\"l\": 0, \"r\": 0, \"b\": 0, \"t\": 0}}, {\"showLink\": true, \"linkText\": \"Export to plot.ly\"})});</script>"
      ]
     },
     "metadata": {},
     "output_type": "display_data"
    }
   ],
   "source": [
    "stats = {(4, 10, 100): (0.250258, 0.521004, 0.228742), (4, 6, 100): (0.135762, 0.365109, 0.499131), (4, 2, 100): (0.000000, 0.000506, 0.999494), (3, 6, 100): (0.896821, 0.099519, 0.003662), (3, 2, 100): (0.000000, 0.001014, 0.998985), (3, 10, 100): (0.002634, 0.819764, 0.177606), (2, 10, 100): (0.042334, 0.285531, 0.672136), (2, 2, 100): (0.000000, 0.001932, 0.998039), (2, 6, 100): (0.838392, 0.160457, 0.001153), }\n",
    "plot_stats(stats)"
   ]
  },
  {
   "cell_type": "markdown",
   "metadata": {},
   "source": [
    "Independant play take 1"
   ]
  },
  {
   "cell_type": "code",
   "execution_count": 3,
   "metadata": {},
   "outputs": [
    {
     "data": {
      "application/vnd.plotly.v1+json": {
       "data": [
        {
         "marker": {
          "color": [
           0.945588,
           0.990994,
           0.389271,
           0.454001,
           0.975144,
           0.985648,
           0.655949,
           0.581616,
           0.511151
          ],
          "colorscale": "Viridis",
          "opacity": 0.8,
          "size": 12
         },
         "mode": "markers",
         "type": "scatter3d",
         "x": [
          3,
          2,
          4,
          3,
          4,
          2,
          4,
          2,
          3
         ],
         "y": [
          2,
          2,
          2,
          6,
          6,
          6,
          10,
          10,
          10
         ],
         "z": [
          0.945588,
          0.990994,
          0.389271,
          0.454001,
          0.975144,
          0.985648,
          0.655949,
          0.581616,
          0.511151
         ]
        }
       ],
       "layout": {
        "margin": {
         "b": 0,
         "l": 0,
         "r": 0,
         "t": 0
        }
       }
      },
      "text/html": [
       "<div id=\"a0b80d46-a2bc-4fe3-936d-9c3071af3ae3\" style=\"height: 525px; width: 100%;\" class=\"plotly-graph-div\"></div><script type=\"text/javascript\">require([\"plotly\"], function(Plotly) { window.PLOTLYENV=window.PLOTLYENV || {};window.PLOTLYENV.BASE_URL=\"https://plot.ly\";Plotly.newPlot(\"a0b80d46-a2bc-4fe3-936d-9c3071af3ae3\", [{\"type\": \"scatter3d\", \"x\": [3, 2, 4, 3, 4, 2, 4, 2, 3], \"y\": [2, 2, 2, 6, 6, 6, 10, 10, 10], \"z\": [0.945588, 0.990994, 0.389271, 0.454001, 0.975144, 0.985648, 0.655949, 0.581616, 0.511151], \"mode\": \"markers\", \"marker\": {\"size\": 12, \"color\": [0.945588, 0.990994, 0.389271, 0.454001, 0.975144, 0.985648, 0.655949, 0.581616, 0.511151], \"colorscale\": \"Viridis\", \"opacity\": 0.8}}], {\"margin\": {\"l\": 0, \"r\": 0, \"b\": 0, \"t\": 0}}, {\"showLink\": true, \"linkText\": \"Export to plot.ly\"})});</script>"
      ],
      "text/vnd.plotly.v1+html": [
       "<div id=\"a0b80d46-a2bc-4fe3-936d-9c3071af3ae3\" style=\"height: 525px; width: 100%;\" class=\"plotly-graph-div\"></div><script type=\"text/javascript\">require([\"plotly\"], function(Plotly) { window.PLOTLYENV=window.PLOTLYENV || {};window.PLOTLYENV.BASE_URL=\"https://plot.ly\";Plotly.newPlot(\"a0b80d46-a2bc-4fe3-936d-9c3071af3ae3\", [{\"type\": \"scatter3d\", \"x\": [3, 2, 4, 3, 4, 2, 4, 2, 3], \"y\": [2, 2, 2, 6, 6, 6, 10, 10, 10], \"z\": [0.945588, 0.990994, 0.389271, 0.454001, 0.975144, 0.985648, 0.655949, 0.581616, 0.511151], \"mode\": \"markers\", \"marker\": {\"size\": 12, \"color\": [0.945588, 0.990994, 0.389271, 0.454001, 0.975144, 0.985648, 0.655949, 0.581616, 0.511151], \"colorscale\": \"Viridis\", \"opacity\": 0.8}}], {\"margin\": {\"l\": 0, \"r\": 0, \"b\": 0, \"t\": 0}}, {\"showLink\": true, \"linkText\": \"Export to plot.ly\"})});</script>"
      ]
     },
     "metadata": {},
     "output_type": "display_data"
    }
   ],
   "source": [
    "stats = {(3, 2, 100): (0.945588, 0.054412, 0.000000), (2, 2, 100): (0.990994, 0.000000, 0.009006), (4, 2, 100): (0.389271, 0.264621, 0.346109), (3, 6, 100): (0.454001, 0.542341, 0.003659), (4, 6, 100): (0.975144, 0.004282, 0.020575), (2, 6, 100): (0.985648, 0.000000, 0.014352), (4, 10, 100): (0.655949, 0.017309, 0.326742), (2, 10, 100): (0.581616, 0.000000, 0.418384), (3, 10, 100): (0.511151, 0.471175, 0.017673), }\n",
    "plot_stats(stats)"
   ]
  },
  {
   "cell_type": "markdown",
   "metadata": {},
   "source": [
    "Independant play take 2"
   ]
  },
  {
   "cell_type": "code",
   "execution_count": 4,
   "metadata": {},
   "outputs": [
    {
     "data": {
      "application/vnd.plotly.v1+json": {
       "data": [
        {
         "marker": {
          "color": [
           0.945588,
           0.990994,
           0.389271,
           0.523382,
           0.312501,
           0.99997,
           0.454001,
           0.975144,
           0.985648,
           0.178884,
           0.542792,
           0.993395,
           0,
           0.655949,
           0.581616
          ],
          "colorscale": "Viridis",
          "opacity": 0.8,
          "size": 12
         },
         "mode": "markers",
         "type": "scatter3d",
         "x": [
          3,
          2,
          4,
          3,
          4,
          2,
          3,
          4,
          2,
          3,
          4,
          2,
          3,
          4,
          2
         ],
         "y": [
          2,
          2,
          2,
          4,
          4,
          4,
          6,
          6,
          6,
          8,
          8,
          8,
          10,
          10,
          10
         ],
         "z": [
          0.945588,
          0.990994,
          0.389271,
          0.523382,
          0.312501,
          0.99997,
          0.454001,
          0.975144,
          0.985648,
          0.178884,
          0.542792,
          0.993395,
          0,
          0.655949,
          0.581616
         ]
        }
       ],
       "layout": {
        "margin": {
         "b": 0,
         "l": 0,
         "r": 0,
         "t": 0
        }
       }
      },
      "text/html": [
       "<div id=\"edc4b0fc-402d-4020-88d6-ab8bc19f79a5\" style=\"height: 525px; width: 100%;\" class=\"plotly-graph-div\"></div><script type=\"text/javascript\">require([\"plotly\"], function(Plotly) { window.PLOTLYENV=window.PLOTLYENV || {};window.PLOTLYENV.BASE_URL=\"https://plot.ly\";Plotly.newPlot(\"edc4b0fc-402d-4020-88d6-ab8bc19f79a5\", [{\"type\": \"scatter3d\", \"x\": [3, 2, 4, 3, 4, 2, 3, 4, 2, 3, 4, 2, 3, 4, 2], \"y\": [2, 2, 2, 4, 4, 4, 6, 6, 6, 8, 8, 8, 10, 10, 10], \"z\": [0.945588, 0.990994, 0.389271, 0.523382, 0.312501, 0.99997, 0.454001, 0.975144, 0.985648, 0.178884, 0.542792, 0.993395, 0.0, 0.655949, 0.581616], \"mode\": \"markers\", \"marker\": {\"size\": 12, \"color\": [0.945588, 0.990994, 0.389271, 0.523382, 0.312501, 0.99997, 0.454001, 0.975144, 0.985648, 0.178884, 0.542792, 0.993395, 0.0, 0.655949, 0.581616], \"colorscale\": \"Viridis\", \"opacity\": 0.8}}], {\"margin\": {\"l\": 0, \"r\": 0, \"b\": 0, \"t\": 0}}, {\"showLink\": true, \"linkText\": \"Export to plot.ly\"})});</script>"
      ],
      "text/vnd.plotly.v1+html": [
       "<div id=\"edc4b0fc-402d-4020-88d6-ab8bc19f79a5\" style=\"height: 525px; width: 100%;\" class=\"plotly-graph-div\"></div><script type=\"text/javascript\">require([\"plotly\"], function(Plotly) { window.PLOTLYENV=window.PLOTLYENV || {};window.PLOTLYENV.BASE_URL=\"https://plot.ly\";Plotly.newPlot(\"edc4b0fc-402d-4020-88d6-ab8bc19f79a5\", [{\"type\": \"scatter3d\", \"x\": [3, 2, 4, 3, 4, 2, 3, 4, 2, 3, 4, 2, 3, 4, 2], \"y\": [2, 2, 2, 4, 4, 4, 6, 6, 6, 8, 8, 8, 10, 10, 10], \"z\": [0.945588, 0.990994, 0.389271, 0.523382, 0.312501, 0.99997, 0.454001, 0.975144, 0.985648, 0.178884, 0.542792, 0.993395, 0.0, 0.655949, 0.581616], \"mode\": \"markers\", \"marker\": {\"size\": 12, \"color\": [0.945588, 0.990994, 0.389271, 0.523382, 0.312501, 0.99997, 0.454001, 0.975144, 0.985648, 0.178884, 0.542792, 0.993395, 0.0, 0.655949, 0.581616], \"colorscale\": \"Viridis\", \"opacity\": 0.8}}], {\"margin\": {\"l\": 0, \"r\": 0, \"b\": 0, \"t\": 0}}, {\"showLink\": true, \"linkText\": \"Export to plot.ly\"})});</script>"
      ]
     },
     "metadata": {},
     "output_type": "display_data"
    }
   ],
   "source": [
    "stats = {(3, 2, 100): (0.945588, 0.054412, 0.000000), (2, 2, 100): (0.990994, 0.000000, 0.009006), (4, 2, 100): (0.389271, 0.264621, 0.346109), (3, 4, 100): (0.523382, 0.476138, 0.000479), (4, 4, 100): (0.312501, 0.656209, 0.031290), (2, 4, 100): (0.999970, 0.000000, 0.000000), (3, 6, 100): (0.454001, 0.542341, 0.003659), (4, 6, 100): (0.975144, 0.004282, 0.020575), (2, 6, 100): (0.985648, 0.000000, 0.014352), (3, 8, 100): (0.178884, 0.730950, 0.090169), (4, 8, 100): (0.542792, 0.241351, 0.215861), (2, 8, 100): (0.993395, 0.000000, 0.006604), (3, 10, 100): (0.000000, 0.000000, 0.000000), (4, 10, 100): (0.655949, 0.017309, 0.326742), (2, 10, 100): (0.581616, 0.000000, 0.418384), }\n",
    "plot_stats(stats)"
   ]
  },
  {
   "cell_type": "markdown",
   "metadata": {},
   "source": [
    "Independant play take 3 (20k frames)"
   ]
  },
  {
   "cell_type": "code",
   "execution_count": 5,
   "metadata": {},
   "outputs": [
    {
     "data": {
      "application/vnd.plotly.v1+json": {
       "data": [
        {
         "marker": {
          "color": [
           0,
           0.924391,
           0.360272,
           0,
           0.292486,
           0.947879,
           0.032139,
           0.846351,
           0.991184,
           0.547971,
           0.46284,
           0.968693,
           0.389465,
           0.534829,
           0.196782
          ],
          "colorscale": "Viridis",
          "opacity": 0.8,
          "size": 12
         },
         "mode": "markers",
         "type": "scatter3d",
         "x": [
          3,
          2,
          4,
          3,
          4,
          2,
          3,
          4,
          2,
          3,
          4,
          2,
          4,
          2,
          3
         ],
         "y": [
          2,
          2,
          2,
          4,
          4,
          4,
          6,
          6,
          6,
          8,
          8,
          8,
          10,
          10,
          10
         ],
         "z": [
          0,
          0.924391,
          0.360272,
          0,
          0.292486,
          0.947879,
          0.032139,
          0.846351,
          0.991184,
          0.547971,
          0.46284,
          0.968693,
          0.389465,
          0.534829,
          0.196782
         ]
        }
       ],
       "layout": {
        "margin": {
         "b": 0,
         "l": 0,
         "r": 0,
         "t": 0
        }
       }
      },
      "text/html": [
       "<div id=\"a7f1df32-a833-4f50-98c0-68d3e4ee437e\" style=\"height: 525px; width: 100%;\" class=\"plotly-graph-div\"></div><script type=\"text/javascript\">require([\"plotly\"], function(Plotly) { window.PLOTLYENV=window.PLOTLYENV || {};window.PLOTLYENV.BASE_URL=\"https://plot.ly\";Plotly.newPlot(\"a7f1df32-a833-4f50-98c0-68d3e4ee437e\", [{\"type\": \"scatter3d\", \"x\": [3, 2, 4, 3, 4, 2, 3, 4, 2, 3, 4, 2, 4, 2, 3], \"y\": [2, 2, 2, 4, 4, 4, 6, 6, 6, 8, 8, 8, 10, 10, 10], \"z\": [0.0, 0.924391, 0.360272, 0.0, 0.292486, 0.947879, 0.032139, 0.846351, 0.991184, 0.547971, 0.46284, 0.968693, 0.389465, 0.534829, 0.196782], \"mode\": \"markers\", \"marker\": {\"size\": 12, \"color\": [0.0, 0.924391, 0.360272, 0.0, 0.292486, 0.947879, 0.032139, 0.846351, 0.991184, 0.547971, 0.46284, 0.968693, 0.389465, 0.534829, 0.196782], \"colorscale\": \"Viridis\", \"opacity\": 0.8}}], {\"margin\": {\"l\": 0, \"r\": 0, \"b\": 0, \"t\": 0}}, {\"showLink\": true, \"linkText\": \"Export to plot.ly\"})});</script>"
      ],
      "text/vnd.plotly.v1+html": [
       "<div id=\"a7f1df32-a833-4f50-98c0-68d3e4ee437e\" style=\"height: 525px; width: 100%;\" class=\"plotly-graph-div\"></div><script type=\"text/javascript\">require([\"plotly\"], function(Plotly) { window.PLOTLYENV=window.PLOTLYENV || {};window.PLOTLYENV.BASE_URL=\"https://plot.ly\";Plotly.newPlot(\"a7f1df32-a833-4f50-98c0-68d3e4ee437e\", [{\"type\": \"scatter3d\", \"x\": [3, 2, 4, 3, 4, 2, 3, 4, 2, 3, 4, 2, 4, 2, 3], \"y\": [2, 2, 2, 4, 4, 4, 6, 6, 6, 8, 8, 8, 10, 10, 10], \"z\": [0.0, 0.924391, 0.360272, 0.0, 0.292486, 0.947879, 0.032139, 0.846351, 0.991184, 0.547971, 0.46284, 0.968693, 0.389465, 0.534829, 0.196782], \"mode\": \"markers\", \"marker\": {\"size\": 12, \"color\": [0.0, 0.924391, 0.360272, 0.0, 0.292486, 0.947879, 0.032139, 0.846351, 0.991184, 0.547971, 0.46284, 0.968693, 0.389465, 0.534829, 0.196782], \"colorscale\": \"Viridis\", \"opacity\": 0.8}}], {\"margin\": {\"l\": 0, \"r\": 0, \"b\": 0, \"t\": 0}}, {\"showLink\": true, \"linkText\": \"Export to plot.ly\"})});</script>"
      ]
     },
     "metadata": {},
     "output_type": "display_data"
    }
   ],
   "source": [
    "stats = {(3, 2, 100): (0.000000, 0.000000, 0.000000), (2, 2, 100): (0.924391, 0.000000, 0.075610), (4, 2, 100): (0.360272, 0.303520, 0.336210), (3, 4, 100): (0.000000, 0.000000, 0.000000), (4, 4, 100): (0.292486, 0.573048, 0.134468), (2, 4, 100): (0.947879, 0.000000, 0.052121), (3, 6, 100): (0.032139, 0.490857, 0.477004), (4, 6, 100): (0.846351, 0.116203, 0.037448), (2, 6, 100): (0.991184, 0.000000, 0.008816), (3, 8, 100): (0.547971, 0.387775, 0.064255), (4, 8, 100): (0.462840, 0.322210, 0.214954), (2, 8, 100): (0.968693, 0.000000, 0.031308), (4, 10, 100): (0.389465, 0.349644, 0.260894), (2, 10, 100): (0.534829, 0.000000, 0.465171), (3, 10, 100): (0.196782, 0.737749, 0.065473), }\n",
    "plot_stats(stats)"
   ]
  },
  {
   "cell_type": "markdown",
   "metadata": {},
   "source": [
    "Independant play take 3 (200k frames)"
   ]
  },
  {
   "cell_type": "code",
   "execution_count": 6,
   "metadata": {},
   "outputs": [
    {
     "data": {
      "application/vnd.plotly.v1+json": {
       "data": [
        {
         "marker": {
          "color": [
           0.985118,
           0.99997,
           0.449502,
           0.794013,
           0.981088,
           0.99997,
           0.660077,
           0.993466,
           0.99997,
           0.344835,
           0.782322,
           0.99997,
           0.704694,
           0.760373,
           0.617655
          ],
          "colorscale": "Viridis",
          "opacity": 0.8,
          "size": 12
         },
         "mode": "markers",
         "type": "scatter3d",
         "x": [
          3,
          2,
          4,
          3,
          4,
          2,
          3,
          4,
          2,
          3,
          4,
          2,
          4,
          2,
          3
         ],
         "y": [
          2,
          2,
          2,
          4,
          4,
          4,
          6,
          6,
          6,
          8,
          8,
          8,
          10,
          10,
          10
         ],
         "z": [
          0.985118,
          0.99997,
          0.449502,
          0.794013,
          0.981088,
          0.99997,
          0.660077,
          0.993466,
          0.99997,
          0.344835,
          0.782322,
          0.99997,
          0.704694,
          0.760373,
          0.617655
         ]
        }
       ],
       "layout": {
        "margin": {
         "b": 0,
         "l": 0,
         "r": 0,
         "t": 0
        }
       }
      },
      "text/html": [
       "<div id=\"2455a6fc-6e18-4af2-87e8-86b124ab0abb\" style=\"height: 525px; width: 100%;\" class=\"plotly-graph-div\"></div><script type=\"text/javascript\">require([\"plotly\"], function(Plotly) { window.PLOTLYENV=window.PLOTLYENV || {};window.PLOTLYENV.BASE_URL=\"https://plot.ly\";Plotly.newPlot(\"2455a6fc-6e18-4af2-87e8-86b124ab0abb\", [{\"type\": \"scatter3d\", \"x\": [3, 2, 4, 3, 4, 2, 3, 4, 2, 3, 4, 2, 4, 2, 3], \"y\": [2, 2, 2, 4, 4, 4, 6, 6, 6, 8, 8, 8, 10, 10, 10], \"z\": [0.985118, 0.99997, 0.449502, 0.794013, 0.981088, 0.99997, 0.660077, 0.993466, 0.99997, 0.344835, 0.782322, 0.99997, 0.704694, 0.760373, 0.617655], \"mode\": \"markers\", \"marker\": {\"size\": 12, \"color\": [0.985118, 0.99997, 0.449502, 0.794013, 0.981088, 0.99997, 0.660077, 0.993466, 0.99997, 0.344835, 0.782322, 0.99997, 0.704694, 0.760373, 0.617655], \"colorscale\": \"Viridis\", \"opacity\": 0.8}}], {\"margin\": {\"l\": 0, \"r\": 0, \"b\": 0, \"t\": 0}}, {\"showLink\": true, \"linkText\": \"Export to plot.ly\"})});</script>"
      ],
      "text/vnd.plotly.v1+html": [
       "<div id=\"2455a6fc-6e18-4af2-87e8-86b124ab0abb\" style=\"height: 525px; width: 100%;\" class=\"plotly-graph-div\"></div><script type=\"text/javascript\">require([\"plotly\"], function(Plotly) { window.PLOTLYENV=window.PLOTLYENV || {};window.PLOTLYENV.BASE_URL=\"https://plot.ly\";Plotly.newPlot(\"2455a6fc-6e18-4af2-87e8-86b124ab0abb\", [{\"type\": \"scatter3d\", \"x\": [3, 2, 4, 3, 4, 2, 3, 4, 2, 3, 4, 2, 4, 2, 3], \"y\": [2, 2, 2, 4, 4, 4, 6, 6, 6, 8, 8, 8, 10, 10, 10], \"z\": [0.985118, 0.99997, 0.449502, 0.794013, 0.981088, 0.99997, 0.660077, 0.993466, 0.99997, 0.344835, 0.782322, 0.99997, 0.704694, 0.760373, 0.617655], \"mode\": \"markers\", \"marker\": {\"size\": 12, \"color\": [0.985118, 0.99997, 0.449502, 0.794013, 0.981088, 0.99997, 0.660077, 0.993466, 0.99997, 0.344835, 0.782322, 0.99997, 0.704694, 0.760373, 0.617655], \"colorscale\": \"Viridis\", \"opacity\": 0.8}}], {\"margin\": {\"l\": 0, \"r\": 0, \"b\": 0, \"t\": 0}}, {\"showLink\": true, \"linkText\": \"Export to plot.ly\"})});</script>"
      ]
     },
     "metadata": {},
     "output_type": "display_data"
    }
   ],
   "source": [
    "stats = {(3, 2, 100): (0.985118, 0.014882, 0.000000), (2, 2, 100): (0.999970, 0.000000, 0.000000), (4, 2, 100): (0.449502, 0.256072, 0.294427), (3, 4, 100): (0.794013, 0.205990, 0.000000), (4, 4, 100): (0.981088, 0.012741, 0.006171), (2, 4, 100): (0.999970, 0.000000, 0.000000), (3, 6, 100): (0.660077, 0.339924, 0.000000), (4, 6, 100): (0.993466, 0.000290, 0.006243), (2, 6, 100): (0.999970, 0.000000, 0.000000), (3, 8, 100): (0.344835, 0.615372, 0.039794), (4, 8, 100): (0.782322, 0.073208, 0.144474), (2, 8, 100): (0.999970, 0.000000, 0.000000), (4, 10, 100): (0.704694, 0.077804, 0.217506), (2, 10, 100): (0.760373, 0.000000, 0.239630), (3, 10, 100): (0.617655, 0.376219, 0.006126), }\n",
    "plot_stats(stats)"
   ]
  },
  {
   "cell_type": "markdown",
   "metadata": {},
   "source": [
    "Scaled rewards, other citizens treated independantly by policy TO-REDO (same seeds...)"
   ]
  },
  {
   "cell_type": "code",
   "execution_count": 7,
   "metadata": {},
   "outputs": [
    {
     "data": {
      "application/vnd.plotly.v1+json": {
       "data": [
        {
         "marker": {
          "color": [
           0.989348,
           0.76697,
           0.746024,
           0.737058,
           0.813057,
           0.99997,
           0.988187,
           0.569917,
           0.919615,
           0.927831,
           0.45713,
           0.762997,
           0.99855,
           0.373169,
           0.614491
          ],
          "colorscale": "Viridis",
          "opacity": 0.8,
          "size": 12
         },
         "mode": "markers",
         "type": "scatter3d",
         "x": [
          2,
          3,
          4,
          3,
          4,
          2,
          3,
          4,
          2,
          3,
          4,
          2,
          2,
          3,
          4
         ],
         "y": [
          2,
          2,
          2,
          4,
          4,
          4,
          6,
          6,
          6,
          8,
          8,
          8,
          10,
          10,
          10
         ],
         "z": [
          0.989348,
          0.76697,
          0.746024,
          0.737058,
          0.813057,
          0.99997,
          0.988187,
          0.569917,
          0.919615,
          0.927831,
          0.45713,
          0.762997,
          0.99855,
          0.373169,
          0.614491
         ]
        }
       ],
       "layout": {
        "margin": {
         "b": 0,
         "l": 0,
         "r": 0,
         "t": 0
        }
       }
      },
      "text/html": [
       "<div id=\"f4ef6f27-9e22-41e0-814e-1b3b5230f532\" style=\"height: 525px; width: 100%;\" class=\"plotly-graph-div\"></div><script type=\"text/javascript\">require([\"plotly\"], function(Plotly) { window.PLOTLYENV=window.PLOTLYENV || {};window.PLOTLYENV.BASE_URL=\"https://plot.ly\";Plotly.newPlot(\"f4ef6f27-9e22-41e0-814e-1b3b5230f532\", [{\"type\": \"scatter3d\", \"x\": [2, 3, 4, 3, 4, 2, 3, 4, 2, 3, 4, 2, 2, 3, 4], \"y\": [2, 2, 2, 4, 4, 4, 6, 6, 6, 8, 8, 8, 10, 10, 10], \"z\": [0.989348, 0.76697, 0.746024, 0.737058, 0.813057, 0.99997, 0.988187, 0.569917, 0.919615, 0.927831, 0.45713, 0.762997, 0.99855, 0.373169, 0.614491], \"mode\": \"markers\", \"marker\": {\"size\": 12, \"color\": [0.989348, 0.76697, 0.746024, 0.737058, 0.813057, 0.99997, 0.988187, 0.569917, 0.919615, 0.927831, 0.45713, 0.762997, 0.99855, 0.373169, 0.614491], \"colorscale\": \"Viridis\", \"opacity\": 0.8}}], {\"margin\": {\"l\": 0, \"r\": 0, \"b\": 0, \"t\": 0}}, {\"showLink\": true, \"linkText\": \"Export to plot.ly\"})});</script>"
      ],
      "text/vnd.plotly.v1+html": [
       "<div id=\"f4ef6f27-9e22-41e0-814e-1b3b5230f532\" style=\"height: 525px; width: 100%;\" class=\"plotly-graph-div\"></div><script type=\"text/javascript\">require([\"plotly\"], function(Plotly) { window.PLOTLYENV=window.PLOTLYENV || {};window.PLOTLYENV.BASE_URL=\"https://plot.ly\";Plotly.newPlot(\"f4ef6f27-9e22-41e0-814e-1b3b5230f532\", [{\"type\": \"scatter3d\", \"x\": [2, 3, 4, 3, 4, 2, 3, 4, 2, 3, 4, 2, 2, 3, 4], \"y\": [2, 2, 2, 4, 4, 4, 6, 6, 6, 8, 8, 8, 10, 10, 10], \"z\": [0.989348, 0.76697, 0.746024, 0.737058, 0.813057, 0.99997, 0.988187, 0.569917, 0.919615, 0.927831, 0.45713, 0.762997, 0.99855, 0.373169, 0.614491], \"mode\": \"markers\", \"marker\": {\"size\": 12, \"color\": [0.989348, 0.76697, 0.746024, 0.737058, 0.813057, 0.99997, 0.988187, 0.569917, 0.919615, 0.927831, 0.45713, 0.762997, 0.99855, 0.373169, 0.614491], \"colorscale\": \"Viridis\", \"opacity\": 0.8}}], {\"margin\": {\"l\": 0, \"r\": 0, \"b\": 0, \"t\": 0}}, {\"showLink\": true, \"linkText\": \"Export to plot.ly\"})});</script>"
      ]
     },
     "metadata": {},
     "output_type": "display_data"
    }
   ],
   "source": [
    "stats = {(2, 2, 100): (0.989348, 0.000000, 0.010652), (3, 2, 100): (0.766970, 0.224137, 0.008896), (4, 2, 100): (0.746024, 0.093845, 0.160135), (3, 4, 100): (0.737058, 0.255743, 0.007201), (4, 4, 100): (0.813057, 0.089910, 0.097035), (2, 4, 100): (0.999970, 0.000000, 0.000004), (3, 6, 100): (0.988187, 0.011813, 0.000000), (4, 6, 100): (0.569917, 0.182371, 0.247718), (2, 6, 100): (0.919615, 0.000000, 0.080387), (3, 8, 100): (0.927831, 0.072170, 0.000000), (4, 8, 100): (0.457130, 0.307170, 0.235703), (2, 8, 100): (0.762997, 0.000000, 0.237006), (2, 10, 100): (0.998550, 0.000000, 0.001448), (3, 10, 100): (0.373169, 0.421749, 0.205085), (4, 10, 100): (0.614491, 0.174853, 0.210660), }\n",
    "plot_stats(stats)"
   ]
  },
  {
   "cell_type": "code",
   "execution_count": 8,
   "metadata": {},
   "outputs": [
    {
     "data": {
      "application/vnd.plotly.v1+json": {
       "data": [
        {
         "marker": {
          "color": [
           0.008604,
           0.212067,
           0.221725,
           0.252087
          ],
          "colorscale": "Viridis",
          "opacity": 0.8,
          "size": 12
         },
         "mode": "markers",
         "type": "scatter3d",
         "x": [
          10,
          10,
          10,
          10
         ],
         "y": [
          1,
          2,
          3,
          4
         ],
         "z": [
          0.008604,
          0.212067,
          0.221725,
          0.252087
         ]
        }
       ],
       "layout": {
        "margin": {
         "b": 0,
         "l": 0,
         "r": 0,
         "t": 0
        }
       }
      },
      "text/html": [
       "<div id=\"dedaefa8-3fbf-458c-8e3e-46f407c0d673\" style=\"height: 525px; width: 100%;\" class=\"plotly-graph-div\"></div><script type=\"text/javascript\">require([\"plotly\"], function(Plotly) { window.PLOTLYENV=window.PLOTLYENV || {};window.PLOTLYENV.BASE_URL=\"https://plot.ly\";Plotly.newPlot(\"dedaefa8-3fbf-458c-8e3e-46f407c0d673\", [{\"type\": \"scatter3d\", \"x\": [10, 10, 10, 10], \"y\": [1, 2, 3, 4], \"z\": [0.008604, 0.212067, 0.221725, 0.252087], \"mode\": \"markers\", \"marker\": {\"size\": 12, \"color\": [0.008604, 0.212067, 0.221725, 0.252087], \"colorscale\": \"Viridis\", \"opacity\": 0.8}}], {\"margin\": {\"l\": 0, \"r\": 0, \"b\": 0, \"t\": 0}}, {\"showLink\": true, \"linkText\": \"Export to plot.ly\"})});</script>"
      ],
      "text/vnd.plotly.v1+html": [
       "<div id=\"dedaefa8-3fbf-458c-8e3e-46f407c0d673\" style=\"height: 525px; width: 100%;\" class=\"plotly-graph-div\"></div><script type=\"text/javascript\">require([\"plotly\"], function(Plotly) { window.PLOTLYENV=window.PLOTLYENV || {};window.PLOTLYENV.BASE_URL=\"https://plot.ly\";Plotly.newPlot(\"dedaefa8-3fbf-458c-8e3e-46f407c0d673\", [{\"type\": \"scatter3d\", \"x\": [10, 10, 10, 10], \"y\": [1, 2, 3, 4], \"z\": [0.008604, 0.212067, 0.221725, 0.252087], \"mode\": \"markers\", \"marker\": {\"size\": 12, \"color\": [0.008604, 0.212067, 0.221725, 0.252087], \"colorscale\": \"Viridis\", \"opacity\": 0.8}}], {\"margin\": {\"l\": 0, \"r\": 0, \"b\": 0, \"t\": 0}}, {\"showLink\": true, \"linkText\": \"Export to plot.ly\"})});</script>"
      ]
     },
     "metadata": {},
     "output_type": "display_data"
    }
   ],
   "source": [
    "plot_stats({(10, 1, 100): (0.008604, 0.107059, 0.884337), (10, 2, 100): (0.212067, 0.464556, 0.323380), (10, 3, 100): (0.221725, 0.481867, 0.296412), (10, 4, 100): (0.252087, 0.528005, 0.219910), })"
   ]
  },
  {
   "cell_type": "code",
   "execution_count": 9,
   "metadata": {},
   "outputs": [
    {
     "data": {
      "application/vnd.plotly.v1+json": {
       "data": [
        {
         "marker": {
          "color": [
           0,
           0,
           0,
           0,
           0.230831,
           0.338698,
           0.31952,
           0.252418,
           1.3e-05,
           0.115101,
           0,
           0,
           0.187042,
           0.146763,
           0.252545,
           0.096043,
           0.105738,
           0.039952,
           0,
           0,
           0.224337,
           0.224832,
           0.172748,
           0.01493,
           0.189985,
           0.226782,
           0.226085,
           0.214976,
           0.223962,
           0.215728,
           0.117409,
           0.182838,
           0.166826,
           1.9e-05,
           0.001183,
           0.005834
          ],
          "colorscale": "Viridis",
          "opacity": 0.8,
          "size": 12
         },
         "mode": "markers",
         "type": "scatter3d",
         "x": [
          2,
          2,
          2,
          2,
          5,
          3,
          5,
          3,
          3,
          5,
          3,
          5,
          6,
          4,
          6,
          4,
          6,
          4,
          4,
          6,
          10,
          10,
          10,
          10,
          7,
          8,
          9,
          7,
          8,
          9,
          7,
          8,
          9,
          7,
          8,
          9
         ],
         "y": [
          1,
          2,
          3,
          4,
          4,
          4,
          3,
          3,
          2,
          2,
          1,
          1,
          4,
          4,
          3,
          3,
          2,
          2,
          1,
          1,
          4,
          3,
          2,
          1,
          4,
          4,
          4,
          3,
          3,
          3,
          2,
          2,
          2,
          1,
          1,
          1
         ],
         "z": [
          0,
          0,
          0,
          0,
          0.230831,
          0.338698,
          0.31952,
          0.252418,
          1.3e-05,
          0.115101,
          0,
          0,
          0.187042,
          0.146763,
          0.252545,
          0.096043,
          0.105738,
          0.039952,
          0,
          0,
          0.224337,
          0.224832,
          0.172748,
          0.01493,
          0.189985,
          0.226782,
          0.226085,
          0.214976,
          0.223962,
          0.215728,
          0.117409,
          0.182838,
          0.166826,
          1.9e-05,
          0.001183,
          0.005834
         ]
        }
       ],
       "layout": {
        "margin": {
         "b": 0,
         "l": 0,
         "r": 0,
         "t": 0
        }
       }
      },
      "text/html": [
       "<div id=\"f9357957-a450-44c4-855c-7edb085c6d2f\" style=\"height: 525px; width: 100%;\" class=\"plotly-graph-div\"></div><script type=\"text/javascript\">require([\"plotly\"], function(Plotly) { window.PLOTLYENV=window.PLOTLYENV || {};window.PLOTLYENV.BASE_URL=\"https://plot.ly\";Plotly.newPlot(\"f9357957-a450-44c4-855c-7edb085c6d2f\", [{\"type\": \"scatter3d\", \"x\": [2, 2, 2, 2, 5, 3, 5, 3, 3, 5, 3, 5, 6, 4, 6, 4, 6, 4, 4, 6, 10, 10, 10, 10, 7, 8, 9, 7, 8, 9, 7, 8, 9, 7, 8, 9], \"y\": [1, 2, 3, 4, 4, 4, 3, 3, 2, 2, 1, 1, 4, 4, 3, 3, 2, 2, 1, 1, 4, 3, 2, 1, 4, 4, 4, 3, 3, 3, 2, 2, 2, 1, 1, 1], \"z\": [0.0, 0.0, 0.0, 0.0, 0.230831, 0.338698, 0.31952, 0.252418, 1.3e-05, 0.115101, 0.0, 0.0, 0.187042, 0.146763, 0.252545, 0.096043, 0.105738, 0.039952, 0.0, 0.0, 0.224337, 0.224832, 0.172748, 0.01493, 0.189985, 0.226782, 0.226085, 0.214976, 0.223962, 0.215728, 0.117409, 0.182838, 0.166826, 1.9e-05, 0.001183, 0.005834], \"mode\": \"markers\", \"marker\": {\"size\": 12, \"color\": [0.0, 0.0, 0.0, 0.0, 0.230831, 0.338698, 0.31952, 0.252418, 1.3e-05, 0.115101, 0.0, 0.0, 0.187042, 0.146763, 0.252545, 0.096043, 0.105738, 0.039952, 0.0, 0.0, 0.224337, 0.224832, 0.172748, 0.01493, 0.189985, 0.226782, 0.226085, 0.214976, 0.223962, 0.215728, 0.117409, 0.182838, 0.166826, 1.9e-05, 0.001183, 0.005834], \"colorscale\": \"Viridis\", \"opacity\": 0.8}}], {\"margin\": {\"l\": 0, \"r\": 0, \"b\": 0, \"t\": 0}}, {\"showLink\": true, \"linkText\": \"Export to plot.ly\"})});</script>"
      ],
      "text/vnd.plotly.v1+html": [
       "<div id=\"f9357957-a450-44c4-855c-7edb085c6d2f\" style=\"height: 525px; width: 100%;\" class=\"plotly-graph-div\"></div><script type=\"text/javascript\">require([\"plotly\"], function(Plotly) { window.PLOTLYENV=window.PLOTLYENV || {};window.PLOTLYENV.BASE_URL=\"https://plot.ly\";Plotly.newPlot(\"f9357957-a450-44c4-855c-7edb085c6d2f\", [{\"type\": \"scatter3d\", \"x\": [2, 2, 2, 2, 5, 3, 5, 3, 3, 5, 3, 5, 6, 4, 6, 4, 6, 4, 4, 6, 10, 10, 10, 10, 7, 8, 9, 7, 8, 9, 7, 8, 9, 7, 8, 9], \"y\": [1, 2, 3, 4, 4, 4, 3, 3, 2, 2, 1, 1, 4, 4, 3, 3, 2, 2, 1, 1, 4, 3, 2, 1, 4, 4, 4, 3, 3, 3, 2, 2, 2, 1, 1, 1], \"z\": [0.0, 0.0, 0.0, 0.0, 0.230831, 0.338698, 0.31952, 0.252418, 1.3e-05, 0.115101, 0.0, 0.0, 0.187042, 0.146763, 0.252545, 0.096043, 0.105738, 0.039952, 0.0, 0.0, 0.224337, 0.224832, 0.172748, 0.01493, 0.189985, 0.226782, 0.226085, 0.214976, 0.223962, 0.215728, 0.117409, 0.182838, 0.166826, 1.9e-05, 0.001183, 0.005834], \"mode\": \"markers\", \"marker\": {\"size\": 12, \"color\": [0.0, 0.0, 0.0, 0.0, 0.230831, 0.338698, 0.31952, 0.252418, 1.3e-05, 0.115101, 0.0, 0.0, 0.187042, 0.146763, 0.252545, 0.096043, 0.105738, 0.039952, 0.0, 0.0, 0.224337, 0.224832, 0.172748, 0.01493, 0.189985, 0.226782, 0.226085, 0.214976, 0.223962, 0.215728, 0.117409, 0.182838, 0.166826, 1.9e-05, 0.001183, 0.005834], \"colorscale\": \"Viridis\", \"opacity\": 0.8}}], {\"margin\": {\"l\": 0, \"r\": 0, \"b\": 0, \"t\": 0}}, {\"showLink\": true, \"linkText\": \"Export to plot.ly\"})});</script>"
      ]
     },
     "metadata": {},
     "output_type": "display_data"
    }
   ],
   "source": [
    "plot_stats({(2, 1, 100): (0.000000, 0.000036, 0.999965), (2, 2, 100): (0.000000, 0.005780, 0.994221), (2, 3, 100): (0.000000, 0.021684, 0.978316), (2, 4, 100): (0.000000, 0.013870, 0.986130), (5, 4, 100): (0.230831, 0.498932, 0.270240), (3, 4, 100): (0.338698, 0.278601, 0.382701), (5, 3, 100): (0.319520, 0.493938, 0.186546), (3, 3, 100): (0.252418, 0.469113, 0.278468), (3, 2, 100): (0.000013, 0.055440, 0.944548), (5, 2, 100): (0.115101, 0.409483, 0.475418), (3, 1, 100): (0.000000, 0.002771, 0.997229), (5, 1, 100): (0.000000, 0.006535, 0.993465), (6, 4, 100): (0.187042, 0.491207, 0.321754), (4, 4, 100): (0.146763, 0.471818, 0.381420), (6, 3, 100): (0.252545, 0.475792, 0.271664), (4, 3, 100): (0.096043, 0.363119, 0.540840), (6, 2, 100): (0.105738, 0.392966, 0.501298), (4, 2, 100): (0.039952, 0.086814, 0.873236), (4, 1, 100): (0.000000, 0.015326, 0.984674), (6, 1, 100): (0.000000, 0.017390, 0.982610), (10, 4, 100): (0.224337, 0.504020, 0.271646), (10, 3, 100): (0.224832, 0.502328, 0.272844), (10, 2, 100): (0.172748, 0.479137, 0.348117), (10, 1, 100): (0.014930, 0.159070, 0.826002), (7, 4, 100): (0.189985, 0.505915, 0.304102), (8, 4, 100): (0.226782, 0.492961, 0.280260), (9, 4, 100): (0.226085, 0.506543, 0.267375), (7, 3, 100): (0.214976, 0.473056, 0.311971), (8, 3, 100): (0.223962, 0.498665, 0.277377), (9, 3, 100): (0.215728, 0.499458, 0.284817), (7, 2, 100): (0.117409, 0.469193, 0.413400), (8, 2, 100): (0.182838, 0.456164, 0.361000), (9, 2, 100): (0.166826, 0.445817, 0.387360), (7, 1, 100): (0.000019, 0.012854, 0.987127), (8, 1, 100): (0.001183, 0.029481, 0.969337), (9, 1, 100): (0.005834, 0.058133, 0.936034),})"
   ]
  },
  {
   "cell_type": "code",
   "execution_count": 10,
   "metadata": {},
   "outputs": [
    {
     "data": {
      "application/vnd.plotly.v1+json": {
       "data": [
        {
         "marker": {
          "color": [
           0,
           0.000343,
           0.910358,
           0.204132,
           0.28369,
           0.176696,
           0.229076,
           0.144554,
           0.124161,
           0.214554,
           0.641096,
           0.091541,
           0.084689,
           0.086077,
           0.094035,
           0.138807,
           0.059142,
           0.099057,
           0,
           0,
           0,
           0,
           0,
           1.7e-05,
           2.6e-05,
           0.00038,
           0.000379
          ],
          "colorscale": "Viridis",
          "opacity": 0.8,
          "size": 12
         },
         "mode": "markers",
         "type": "scatter3d",
         "x": [
          3,
          4,
          2,
          6,
          5,
          7,
          8,
          9,
          10,
          4,
          2,
          3,
          6,
          5,
          7,
          8,
          9,
          10,
          2,
          3,
          4,
          6,
          5,
          7,
          8,
          9,
          10
         ],
         "y": [
          4,
          4,
          4,
          4,
          4,
          4,
          4,
          4,
          4,
          3,
          3,
          3,
          3,
          3,
          3,
          3,
          3,
          3,
          2,
          2,
          2,
          2,
          2,
          2,
          2,
          2,
          2
         ],
         "z": [
          0,
          0.000343,
          0.910358,
          0.204132,
          0.28369,
          0.176696,
          0.229076,
          0.144554,
          0.124161,
          0.214554,
          0.641096,
          0.091541,
          0.084689,
          0.086077,
          0.094035,
          0.138807,
          0.059142,
          0.099057,
          0,
          0,
          0,
          0,
          0,
          1.7e-05,
          2.6e-05,
          0.00038,
          0.000379
         ]
        }
       ],
       "layout": {
        "margin": {
         "b": 0,
         "l": 0,
         "r": 0,
         "t": 0
        }
       }
      },
      "text/html": [
       "<div id=\"45edeef2-ce4d-4f82-a887-ae69aca922c1\" style=\"height: 525px; width: 100%;\" class=\"plotly-graph-div\"></div><script type=\"text/javascript\">require([\"plotly\"], function(Plotly) { window.PLOTLYENV=window.PLOTLYENV || {};window.PLOTLYENV.BASE_URL=\"https://plot.ly\";Plotly.newPlot(\"45edeef2-ce4d-4f82-a887-ae69aca922c1\", [{\"type\": \"scatter3d\", \"x\": [3, 4, 2, 6, 5, 7, 8, 9, 10, 4, 2, 3, 6, 5, 7, 8, 9, 10, 2, 3, 4, 6, 5, 7, 8, 9, 10], \"y\": [4, 4, 4, 4, 4, 4, 4, 4, 4, 3, 3, 3, 3, 3, 3, 3, 3, 3, 2, 2, 2, 2, 2, 2, 2, 2, 2], \"z\": [0.0, 0.000343, 0.910358, 0.204132, 0.28369, 0.176696, 0.229076, 0.144554, 0.124161, 0.214554, 0.641096, 0.091541, 0.084689, 0.086077, 0.094035, 0.138807, 0.059142, 0.099057, 0.0, 0.0, 0.0, 0.0, 0.0, 1.7e-05, 2.6e-05, 0.00038, 0.000379], \"mode\": \"markers\", \"marker\": {\"size\": 12, \"color\": [0.0, 0.000343, 0.910358, 0.204132, 0.28369, 0.176696, 0.229076, 0.144554, 0.124161, 0.214554, 0.641096, 0.091541, 0.084689, 0.086077, 0.094035, 0.138807, 0.059142, 0.099057, 0.0, 0.0, 0.0, 0.0, 0.0, 1.7e-05, 2.6e-05, 0.00038, 0.000379], \"colorscale\": \"Viridis\", \"opacity\": 0.8}}], {\"margin\": {\"l\": 0, \"r\": 0, \"b\": 0, \"t\": 0}}, {\"showLink\": true, \"linkText\": \"Export to plot.ly\"})});</script>"
      ],
      "text/vnd.plotly.v1+html": [
       "<div id=\"45edeef2-ce4d-4f82-a887-ae69aca922c1\" style=\"height: 525px; width: 100%;\" class=\"plotly-graph-div\"></div><script type=\"text/javascript\">require([\"plotly\"], function(Plotly) { window.PLOTLYENV=window.PLOTLYENV || {};window.PLOTLYENV.BASE_URL=\"https://plot.ly\";Plotly.newPlot(\"45edeef2-ce4d-4f82-a887-ae69aca922c1\", [{\"type\": \"scatter3d\", \"x\": [3, 4, 2, 6, 5, 7, 8, 9, 10, 4, 2, 3, 6, 5, 7, 8, 9, 10, 2, 3, 4, 6, 5, 7, 8, 9, 10], \"y\": [4, 4, 4, 4, 4, 4, 4, 4, 4, 3, 3, 3, 3, 3, 3, 3, 3, 3, 2, 2, 2, 2, 2, 2, 2, 2, 2], \"z\": [0.0, 0.000343, 0.910358, 0.204132, 0.28369, 0.176696, 0.229076, 0.144554, 0.124161, 0.214554, 0.641096, 0.091541, 0.084689, 0.086077, 0.094035, 0.138807, 0.059142, 0.099057, 0.0, 0.0, 0.0, 0.0, 0.0, 1.7e-05, 2.6e-05, 0.00038, 0.000379], \"mode\": \"markers\", \"marker\": {\"size\": 12, \"color\": [0.0, 0.000343, 0.910358, 0.204132, 0.28369, 0.176696, 0.229076, 0.144554, 0.124161, 0.214554, 0.641096, 0.091541, 0.084689, 0.086077, 0.094035, 0.138807, 0.059142, 0.099057, 0.0, 0.0, 0.0, 0.0, 0.0, 1.7e-05, 2.6e-05, 0.00038, 0.000379], \"colorscale\": \"Viridis\", \"opacity\": 0.8}}], {\"margin\": {\"l\": 0, \"r\": 0, \"b\": 0, \"t\": 0}}, {\"showLink\": true, \"linkText\": \"Export to plot.ly\"})});</script>"
      ]
     },
     "metadata": {},
     "output_type": "display_data"
    }
   ],
   "source": [
    "plot_stats({(3, 4, 20): (0.000000, 0.003267, 0.996733), (4, 4, 20): (0.000343, 0.036089, 0.963569), (2, 4, 20): (0.910358, 0.086682, 0.002961), (6, 4, 20): (0.204132, 0.401617, 0.394255), (5, 4, 20): (0.283690, 0.375735, 0.340575), (7, 4, 20): (0.176696, 0.330123, 0.493185), (8, 4, 20): (0.229076, 0.398733, 0.372194), (9, 4, 20): (0.144554, 0.423661, 0.431787), (10, 4, 20): (0.124161, 0.392919, 0.482922), (4, 3, 20): (0.214554, 0.130023, 0.655428), (2, 3, 20): (0.641096, 0.354989, 0.003914), (3, 3, 20): (0.091541, 0.248415, 0.660049), (6, 3, 20): (0.084689, 0.221409, 0.693906), (5, 3, 20): (0.086077, 0.046169, 0.867756), (7, 3, 20): (0.094035, 0.247001, 0.658965), (8, 3, 20): (0.138807, 0.357770, 0.503426), (9, 3, 20): (0.059142, 0.251589, 0.689270), (10, 3, 20): (0.099057, 0.245936, 0.655010), (2, 2, 20): (0.000000, 0.003435, 0.996565), (3, 2, 20): (0.000000, 0.003668, 0.996332), (4, 2, 20): (0.000000, 0.000726, 0.999274), (6, 2, 20): (0.000000, 0.013731, 0.986269), (5, 2, 20): (0.000000, 0.008565, 0.991435), (7, 2, 20): (0.000017, 0.013476, 0.986507), (8, 2, 20): (0.000026, 0.029026, 0.970948), (9, 2, 20): (0.000380, 0.027802, 0.971819), (10, 2, 20): (0.000379, 0.031613, 0.968009), })"
   ]
  },
  {
   "cell_type": "code",
   "execution_count": 18,
   "metadata": {},
   "outputs": [],
   "source": [
    "import torch as th\n",
    "import experiment_trade"
   ]
  },
  {
   "cell_type": "code",
   "execution_count": 21,
   "metadata": {},
   "outputs": [
    {
     "data": {
      "text/plain": [
       "Policy(\n",
       "  (base): MLPBase(\n",
       "    (actor): Sequential(\n",
       "      (0): Linear(in_features=2, out_features=64, bias=True)\n",
       "      (1): Tanh()\n",
       "      (2): Linear(in_features=64, out_features=64, bias=True)\n",
       "      (3): Tanh()\n",
       "    )\n",
       "    (critic): Sequential(\n",
       "      (0): Linear(in_features=2, out_features=64, bias=True)\n",
       "      (1): Tanh()\n",
       "      (2): Linear(in_features=64, out_features=64, bias=True)\n",
       "      (3): Tanh()\n",
       "    )\n",
       "    (critic_linear): Linear(in_features=64, out_features=1, bias=True)\n",
       "  )\n",
       "  (dist): DiagGaussian(\n",
       "    (fc_mean): Linear(in_features=64, out_features=2, bias=True)\n",
       "    (logstd): AddBias()\n",
       "  )\n",
       ")"
      ]
     },
     "execution_count": 21,
     "metadata": {},
     "output_type": "execute_result"
    }
   ],
   "source": [
    "model = th.load(\"mc.Trade[2,4,20].trade[2,4].pt\")[0]\n",
    "model"
   ]
  },
  {
   "cell_type": "code",
   "execution_count": 20,
   "metadata": {},
   "outputs": [
    {
     "ename": "TypeError",
     "evalue": "act() missing 2 required positional arguments: 'states' and 'masks'",
     "output_type": "error",
     "traceback": [
      "\u001b[1;31m---------------------------------------------------------------------------\u001b[0m",
      "\u001b[1;31mTypeError\u001b[0m                                 Traceback (most recent call last)",
      "\u001b[1;32m<ipython-input-20-bf55e4f71c2d>\u001b[0m in \u001b[0;36m<module>\u001b[1;34m()\u001b[0m\n\u001b[1;32m----> 1\u001b[1;33m \u001b[0mmodel\u001b[0m\u001b[1;33m.\u001b[0m\u001b[0mact\u001b[0m\u001b[1;33m(\u001b[0m\u001b[0mth\u001b[0m\u001b[1;33m.\u001b[0m\u001b[0mtensor\u001b[0m\u001b[1;33m(\u001b[0m\u001b[1;33m[\u001b[0m\u001b[1;36m0\u001b[0m\u001b[1;33m,\u001b[0m\u001b[1;36m0\u001b[0m\u001b[1;33m]\u001b[0m\u001b[1;33m)\u001b[0m\u001b[1;33m)\u001b[0m\u001b[1;33m\u001b[0m\u001b[0m\n\u001b[0m",
      "\u001b[1;31mTypeError\u001b[0m: act() missing 2 required positional arguments: 'states' and 'masks'"
     ]
    }
   ],
   "source": [
    "model.act(th.tensor([0,0]))"
   ]
  },
  {
   "cell_type": "code",
   "execution_count": 22,
   "metadata": {},
   "outputs": [],
   "source": [
    "th.save(experiment_trade.Policy(2), \"test.pt\")"
   ]
  },
  {
   "cell_type": "code",
   "execution_count": 23,
   "metadata": {},
   "outputs": [
    {
     "data": {
      "text/plain": [
       "Policy(\n",
       "  (action): Sequential(\n",
       "    (0): Linear(in_features=2, out_features=16, bias=True)\n",
       "    (1): Tanh()\n",
       "    (2): Linear(in_features=16, out_features=16, bias=True)\n",
       "    (3): Tanh()\n",
       "    (4): Linear(in_features=16, out_features=2, bias=True)\n",
       "  )\n",
       "  (critic): Sequential(\n",
       "    (0): Linear(in_features=2, out_features=16, bias=True)\n",
       "    (1): Tanh()\n",
       "    (2): Linear(in_features=16, out_features=16, bias=True)\n",
       "    (3): Tanh()\n",
       "    (4): Linear(in_features=16, out_features=1, bias=True)\n",
       "  )\n",
       "  (dist): DiagGaussian(\n",
       "    (logstd): AddBias()\n",
       "  )\n",
       ")"
      ]
     },
     "execution_count": 23,
     "metadata": {},
     "output_type": "execute_result"
    }
   ],
   "source": [
    "th.load(\"test.pt\")"
   ]
  },
  {
   "cell_type": "code",
   "execution_count": null,
   "metadata": {},
   "outputs": [],
   "source": []
  }
 ],
 "metadata": {
  "kernelspec": {
   "display_name": "Python 3",
   "language": "python",
   "name": "python3"
  },
  "language_info": {
   "codemirror_mode": {
    "name": "ipython",
    "version": 3
   },
   "file_extension": ".py",
   "mimetype": "text/x-python",
   "name": "python",
   "nbconvert_exporter": "python",
   "pygments_lexer": "ipython3",
   "version": "3.6.4"
  }
 },
 "nbformat": 4,
 "nbformat_minor": 2
}
